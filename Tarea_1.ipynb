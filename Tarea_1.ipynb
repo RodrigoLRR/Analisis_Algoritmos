{
  "cells": [
    {
      "cell_type": "markdown",
      "source": [
        "0. Sea un natural n, usando sólo comparaciones, halle un algoritmo que en lgn encuentre a n."
      ],
      "metadata": {
        "nteract": {
          "transient": {
            "deleting": false
          }
        }
      }
    },
    {
      "cell_type": "code",
      "source": [
        "n0=rand(1:100000000000000)"
      ],
      "outputs": [
        {
          "output_type": "execute_result",
          "execution_count": 2,
          "data": {
            "text/plain": "54270393810192"
          },
          "metadata": {}
        }
      ],
      "execution_count": 2,
      "metadata": {
        "collapsed": true,
        "jupyter": {
          "source_hidden": false,
          "outputs_hidden": false
        },
        "nteract": {
          "transient": {
            "deleting": false
          }
        },
        "execution": {
          "iopub.status.busy": "2021-09-30T01:02:56.997Z",
          "iopub.execute_input": "2021-09-30T01:02:57.037Z",
          "iopub.status.idle": "2021-09-30T01:02:58.114Z"
        }
      }
    },
    {
      "cell_type": "code",
      "source": [
        "@time begin\n",
        "i,li,ls,des =1,0,0,true\n",
        "if n0==i\n",
        "  print(\"tu numero es \",i)\n",
        "else\n",
        "  while des==true\n",
        "    if n0>2^i\n",
        "      li=2^i\n",
        "      i+=1\n",
        "    elseif n0<2^i\n",
        "      ls=2^i\n",
        "      while true\n",
        "        if n0<ls-(ls-li)÷2\n",
        "          ls=ls-(ls-li)÷2\n",
        "        elseif n0>ls-(ls-li)÷2\n",
        "          li=ls-(ls-li)÷2\n",
        "        elseif n0==ls-(ls-li)÷2\n",
        "        print(\"tu numero es:\",ls-(ls-li)÷2)\n",
        "        des=false\n",
        "        break\n",
        "        end\n",
        "      end\n",
        "    elseif n0==2^i\n",
        "      print(\"tu numero es:\",2^i)\n",
        "      break\n",
        "    end\n",
        "  end\n",
        "end\n",
        "end"
      ],
      "outputs": [
        {
          "output_type": "stream",
          "name": "stdout",
          "text": [
            "tu numero es:54270393810192  0.000414 seconds (396 allocations: 6.422 KiB)\n"
          ]
        }
      ],
      "execution_count": 5,
      "metadata": {
        "collapsed": true,
        "jupyter": {
          "source_hidden": false,
          "outputs_hidden": false
        },
        "nteract": {
          "transient": {
            "deleting": false
          }
        },
        "execution": {
          "iopub.status.busy": "2021-09-30T01:08:43.805Z",
          "iopub.execute_input": "2021-09-30T01:08:43.850Z",
          "iopub.status.idle": "2021-09-30T01:08:43.949Z"
        }
      }
    },
    {
      "cell_type": "markdown",
      "source": [
        "Pseudocodigo:\n",
        "\n",
        "$\\theta (1)$1. i,ls,li,des <- 1,0,0,true \n",
        "\n",
        "$\\theta (1)$2. si n0==i\n",
        "\n",
        "$\\theta (1)$3. imprime(\"Tu numero es:\",i)\n",
        "\n",
        "$\\theta (1)$4. sino\n",
        "\n",
        "$\\theta (lgn)$5.  mientras des==true\n",
        "\n",
        "              6.    si n0>2^i\n",
        "\n",
        "              7.      li<-2^i\n",
        "\n",
        "              8.     i+<-1\n",
        "\n",
        "              9.   sino n0<2^i\n",
        "\n",
        "              10.      ls<-2^i\n",
        "                    \n",
        "$\\theta (lgn)$                    while true\n",
        "\n",
        "                        if n0<ls-(ls-li)÷2\n",
        "                        \n",
        "                            ls=ls-(ls-li)÷2\n",
        "                            \n",
        "                            elseif n0>ls-(ls-li)÷2\n",
        "                            \n",
        "                            li=ls-(ls-li)÷2\n",
        "                            \n",
        "                        elseif n0==ls-(ls-li)÷2\n",
        "                        \n",
        "                            print(\"tu numero es:\",ls-(ls-li)÷2)\n",
        "                            \n",
        "                            des=false\n",
        "                            \n",
        "                            break\n",
        "                            \n",
        "                        end\n",
        "                        \n",
        "                    end\n",
        "                    \n",
        "$\\theta (1)$                  elseif n0==2^i\n",
        "                  \n",
        "                        print(\"tu numero es:\",2^i)\n",
        "                        \n",
        "                        break\n",
        "                        \n",
        "                  end\n",
        "                  \n",
        "                  end\n",
        "                  \n",
        "               end\n",
        "               "
      ],
      "metadata": {
        "nteract": {
          "transient": {
            "deleting": false
          }
        }
      }
    },
    {
      "cell_type": "markdown",
      "source": [
        "1. Dados dos conjuntos A y B de n números, y un número x, diseñe un algoritmo que en O(nlgn) encuentre, si existe, un elemento a en A y otro b en B tales que a+b=x"
      ],
      "metadata": {
        "nteract": {
          "transient": {
            "deleting": false
          }
        }
      }
    },
    {
      "cell_type": "code",
      "source": [
        "n1=rand(1:1000)\n",
        "x=rand(-20000:20000)\n",
        "arA=rand(-20000:20000,n1)\n",
        "arB=rand(-20000:20000,n1)\n",
        "print(\"Se tienen \",n1,\" valores en los conjuntos:\\n A=\",arA,\"\\ny en el conjunto B=\",arB,\"\\nEl entero a encontrar es=\",x)"
      ],
      "outputs": [
        {
          "output_type": "stream",
          "name": "stdout",
          "text": [
            "Se tienen 218 valores en los conjuntos:\n",
            " A=[-4071, -9243, -5458, 6883, 10665, 13654, -4029, -5872, 19416, 7050, 12431, -7328, 4413, 5678, -169, -14133, 3252, 12527, -8855, -3346, 18525, 14313, 2515, 11418, -17610, 6520, 18472, 6950, -9484, 13433, 16089, 5515, -2353, 5052, 8774, -18092, -3109, -4543, 7499, 13471, 18596, -18888, 2711, 9645, 10826, -7811, -4835, 1406, 2269, 8476, -3821, -14168, 8688, -12413, 9037, 8564, 5505, -291, 1694, -8381, -2207, -13852, 12125, -19815, -15164, 3509, 18303, -19623, -7832, 7061, 18700, 2649, -12300, 2717, 11001, 15448, -12410, 15697, 2278, 17592, 1289, -7963, -15178, -9340, 3845, 11697, 19304, -6669, 4482, -17146, 15597, -13479, -18994, -4643, -7514, -18826, -347, -965, 4611, 19465, -9265, -7590, 3239, -13705, 3621, -6208, 6874, -15235, 13973, 10237, 6930, 5283, 17054, 14236, -13141, -18021, 1612, 13874, -6933, -10575, -15014, 11631, -19621, -6386, 3897, -8261, -277, -6290, 15145, 13111, -323, -9839, 11032, 7436, -11599, 17982, -11055, -380, -9758, -18378, -8747, -13455, -11577, -16250, -9173, 3122, 18965, -8744, -1035, -13919, -7820, -17217, 11680, 16132, 6890, 17644, 16930, -12617, 2350, -9390, -8358, 9720, 70, 13002, 5286, 9695, 16781, 13463, -17763, -13894, -9490, 12562, -10054, -2782, 11451, -11420, 8222, 4912, -309, 3406, -15163, -16653, -6192, 7982, 15760, -9290, -10356, 12258, -4302, 2333, -18270, -632, 15371, -11874, -14342, -12315, 14001, -4134, -7511, 1693, -19103, 8312, 14681, -13483, -4629, 5042, 3803, 19262, -14500, -2919, -1173, 3498, 2225, 2732, -16318, -3840, 19437, 19309]\n",
            "y en el conjunto B=[-2613, -7332, 1313, -12875, -12121, -9350, -9000, -8355, -9981, -19776, -10482, 5888, 17762, -18919, 13880, -16452, -13145, 3340, -12343, 11076, 4981, -13878, 11745, -9288, -9376, 4534, -13088, -16290, -19097, -10522, -4490, 8240, -7670, 10575, -16735, -3587, -10965, 12636, 8479, -108, 11391, 12347, 17795, -17290, -12583, 10180, 19643, -15371, 16217, -15000, -19649, -8704, -10273, 5562, -1746, -9814, -4557, 2487, -1851, -8442, -11963, 1779, -2240, 14705, 16888, -4328, -10942, -11057, -1300, -15019, 12205, 5528, -3413, 5185, 19171, 17991, -12328, 11392, 14577, 5040, -19728, 16188, 146, -1240, -18912, 13005, -18745, 3555, -12385, 6527, -3011, -9048, 6313, -10789, -6483, 8864, -7789, -9117, -6248, -4248, -15276, 7391, 7759, 1761, -8366, 2902, -3009, 7929, 17075, -4841, -10505, 7494, 9253, -17152, -7309, 2366, 17314, -8902, -6802, 19343, 4457, 12461, -5064, -6969, -19641, -17444, 12716, -8801, -5739, -4775, -373, 19097, -942, 3915, 2576, 19310, -18834, -17488, 16956, -3061, 17157, 4935, 6042, 7162, -7185, 15689, 12181, -1443, 9191, -1405, -19244, -7477, -13255, -12968, 7282, -14933, 4408, 1641, -14128, 11660, 8995, 19621, -19235, 7750, -18482, 4844, 16665, -13321, 7484, -7329, -19445, -18755, 13039, 11703, -5283, -7906, -7989, 1054, -3650, -11210, 7314, 2628, -17582, -13781, 2658, 15496, 16339, -593, 5438, -1516, -10184, 15586, 12197, 4773, 1156, -11736, -12095, 6697, 13222, 8894, -7868, -19319, -10202, -18609, 14834, -3403, -9893, -7327, 7830, -19128, 5659, -8552, -7667, -4197, 7442, 116, 17370, 6307]\n",
            "El entero a encontrar es=-14538"
          ]
        }
      ],
      "execution_count": 74,
      "metadata": {
        "collapsed": true,
        "jupyter": {
          "source_hidden": false,
          "outputs_hidden": false
        },
        "nteract": {
          "transient": {
            "deleting": false
          }
        },
        "execution": {
          "iopub.status.busy": "2021-09-28T21:21:51.589Z",
          "iopub.execute_input": "2021-09-28T21:21:51.613Z",
          "iopub.status.idle": "2021-09-28T21:21:51.678Z"
        }
      }
    },
    {
      "cell_type": "code",
      "source": [
        "exis=false\n",
        "k=0;\n",
        "for i in 1:n1\n",
        "  b=x-arA[i]\n",
        "    for j in 1:n1\n",
        "    k+=1;\n",
        "      if b == arB[j]\n",
        "        print(\"Existe en A el valor a=\",arA[i],\" y en B el valor b=\",arB[j],\" que dan como resultado a x=\",x,\"\\n \",k,\" \",n1^2)\n",
        "        exis=true\n",
        "        break\n",
        "      end\n",
        "    end\n",
        "  if exis==true\n",
        "    break;\n",
        "  end\n",
        "end\n",
        "if exis==false\n",
        "  print(\"No hay pareja de numeros talque a+b=x\",\"\\n \",k,\" \",n1^2)\n",
        "end"
      ],
      "outputs": [
        {
          "output_type": "stream",
          "name": "stdout",
          "text": [
            "No hay pareja de numeros talque a+b=x\n",
            " 47524 47524"
          ]
        }
      ],
      "execution_count": 75,
      "metadata": {
        "collapsed": true,
        "jupyter": {
          "source_hidden": false,
          "outputs_hidden": false
        },
        "nteract": {
          "transient": {
            "deleting": false
          }
        },
        "execution": {
          "iopub.status.busy": "2021-09-28T21:21:55.653Z",
          "iopub.execute_input": "2021-09-28T21:21:55.684Z",
          "iopub.status.idle": "2021-09-28T21:21:55.899Z"
        }
      }
    },
    {
      "cell_type": "markdown",
      "source": [
        "2. Supongamos que tenemos una lista A con n elementos, y que cada elemento en la lista es verde, rojo o azul. Queremos ordenar los elementos en nuestra lista de tal forma que aparezcan los elementos verdes, después los rojos y al final los azules. Las operaciones que tenemos disponibles son a) Color(A,i), la cual nos da el color del elemento del elemento i en la lista A. b) Intercambio(A,i,j) que intercambia el elemento i de A con el elemento j. Encuentre un algoritmo lineal que solucione el problema."
      ],
      "metadata": {
        "nteract": {
          "transient": {
            "deleting": false
          }
        }
      }
    },
    {
      "cell_type": "code",
      "source": [
        "n2=rand(1:1000);\n",
        "colors=[\"verde\",\"rojo\",\"azul\"]\n",
        "ar2Num=rand(1:1000,n2);\n",
        "ar2Col=[]\n",
        "for i in 1:n2\n",
        "  push!(ar2Col,colors[rand(1:3)])\n",
        "end\n",
        "A=hcat(ar2Col,ar2Num);\n",
        "print(\"Se tiene un arreglo de \",n2,\" valores de la forma \\n\",A)"
      ],
      "outputs": [
        {
          "output_type": "stream",
          "name": "stdout",
          "text": [
            "Se tiene un arreglo de 831 valores de la forma \n",
            "Any[\"rojo\" 520; \"rojo\" 799; \"verde\" 645; \"azul\" 191; \"azul\" 391; \"verde\" 47; \"verde\" 804; \"rojo\" 780; \"verde\" 988; \"azul\" 213; \"azul\" 106; \"verde\" 980; \"verde\" 145; \"azul\" 595; \"rojo\" 524; \"rojo\" 650; \"verde\" 221; \"rojo\" 537; \"azul\" 808; \"rojo\" 766; \"rojo\" 2; \"azul\" 701; \"verde\" 371; \"azul\" 242; \"rojo\" 682; \"verde\" 2; \"verde\" 415; \"azul\" 505; \"azul\" 312; \"rojo\" 565; \"rojo\" 634; \"verde\" 381; \"rojo\" 707; \"verde\" 485; \"azul\" 989; \"verde\" 611; \"verde\" 327; \"rojo\" 809; \"verde\" 760; \"rojo\" 875; \"azul\" 399; \"verde\" 689; \"azul\" 253; \"azul\" 438; \"verde\" 344; \"azul\" 245; \"verde\" 193; \"verde\" 502; \"verde\" 524; \"azul\" 291; \"verde\" 935; \"azul\" 954; \"azul\" 870; \"rojo\" 565; \"azul\" 240; \"verde\" 279; \"rojo\" 174; \"verde\" 368; \"verde\" 153; \"verde\" 125; \"rojo\" 671; \"verde\" 739; \"verde\" 581; \"azul\" 75; \"rojo\" 433; \"rojo\" 646; \"verde\" 518; \"verde\" 325; \"rojo\" 984; \"verde\" 99; \"verde\" 404; \"azul\" 564; \"rojo\" 375; \"rojo\" 825; \"verde\" 593; \"azul\" 934; \"verde\" 308; \"rojo\" 848; \"azul\" 922; \"verde\" 833; \"azul\" 674; \"verde\" 239; \"azul\" 499; \"azul\" 782; \"verde\" 652; \"azul\" 681; \"rojo\" 516; \"azul\" 410; \"azul\" 468; \"azul\" 904; \"rojo\" 908; \"azul\" 911; \"verde\" 788; \"rojo\" 362; \"verde\" 390; \"verde\" 983; \"azul\" 56; \"azul\" 191; \"rojo\" 522; \"verde\" 223; \"rojo\" 434; \"rojo\" 535; \"verde\" 351; \"azul\" 320; \"azul\" 707; \"verde\" 217; \"verde\" 599; \"rojo\" 801; \"azul\" 565; \"rojo\" 393; \"verde\" 722; \"verde\" 708; \"verde\" 619; \"rojo\" 688; \"azul\" 730; \"azul\" 866; \"azul\" 993; \"azul\" 873; \"rojo\" 750; \"rojo\" 941; \"azul\" 545; \"rojo\" 520; \"verde\" 633; \"azul\" 959; \"azul\" 491; \"azul\" 277; \"rojo\" 898; \"azul\" 480; \"rojo\" 921; \"azul\" 686; \"azul\" 384; \"verde\" 738; \"azul\" 438; \"rojo\" 61; \"verde\" 47; \"verde\" 772; \"rojo\" 638; \"verde\" 476; \"azul\" 199; \"azul\" 444; \"rojo\" 586; \"azul\" 637; \"verde\" 340; \"verde\" 339; \"azul\" 399; \"verde\" 291; \"verde\" 353; \"azul\" 600; \"rojo\" 940; \"azul\" 660; \"azul\" 208; \"rojo\" 288; \"verde\" 495; \"rojo\" 313; \"rojo\" 314; \"rojo\" 379; \"azul\" 730; \"azul\" 725; \"azul\" 583; \"azul\" 740; \"azul\" 691; \"verde\" 284; \"verde\" 762; \"verde\" 616; \"verde\" 794; \"azul\" 745; \"verde\" 809; \"verde\" 668; \"rojo\" 56; \"rojo\" 339; \"verde\" 494; \"verde\" 799; \"azul\" 905; \"azul\" 534; \"verde\" 637; \"azul\" 195; \"rojo\" 327; \"azul\" 790; \"verde\" 719; \"azul\" 31; \"azul\" 631; \"azul\" 927; \"azul\" 846; \"azul\" 847; \"azul\" 483; \"azul\" 289; \"verde\" 820; \"rojo\" 489; \"verde\" 104; \"azul\" 803; \"verde\" 180; \"verde\" 163; \"rojo\" 17; \"verde\" 85; \"verde\" 522; \"verde\" 711; \"verde\" 69; \"rojo\" 836; \"azul\" 673; \"azul\" 657; \"verde\" 336; \"verde\" 59; \"verde\" 94; \"verde\" 168; \"azul\" 454; \"verde\" 848; \"rojo\" 369; \"rojo\" 497; \"verde\" 452; \"verde\" 977; \"azul\" 384; \"verde\" 48; \"verde\" 714; \"rojo\" 648; \"rojo\" 797; \"azul\" 333; \"rojo\" 473; \"rojo\" 348; \"verde\" 644; \"verde\" 897; \"rojo\" 304; \"rojo\" 388; \"verde\" 465; \"azul\" 63; \"rojo\" 319; \"azul\" 566; \"azul\" 352; \"verde\" 504; \"azul\" 569; \"verde\" 745; \"rojo\" 931; \"verde\" 138; \"verde\" 949; \"verde\" 455; \"azul\" 706; \"verde\" 389; \"verde\" 562; \"azul\" 740; \"azul\" 241; \"rojo\" 50; \"azul\" 103; \"verde\" 218; \"rojo\" 980; \"azul\" 509; \"rojo\" 195; \"rojo\" 766; \"verde\" 949; \"azul\" 707; \"verde\" 675; \"verde\" 969; \"rojo\" 124; \"azul\" 601; \"verde\" 718; \"azul\" 733; \"verde\" 775; \"rojo\" 583; \"rojo\" 738; \"azul\" 463; \"rojo\" 502; \"rojo\" 73; \"verde\" 625; \"azul\" 778; \"verde\" 650; \"azul\" 680; \"verde\" 141; \"verde\" 281; \"azul\" 231; \"verde\" 367; \"verde\" 258; \"azul\" 650; \"azul\" 16; \"verde\" 894; \"verde\" 482; \"azul\" 180; \"verde\" 787; \"azul\" 248; \"azul\" 604; \"azul\" 966; \"azul\" 121; \"verde\" 891; \"azul\" 793; \"verde\" 793; \"azul\" 842; \"rojo\" 344; \"rojo\" 946; \"rojo\" 49; \"rojo\" 504; \"verde\" 156; \"rojo\" 951; \"azul\" 251; \"azul\" 471; \"azul\" 472; \"rojo\" 654; \"verde\" 199; \"azul\" 738; \"verde\" 210; \"verde\" 665; \"azul\" 155; \"azul\" 144; \"azul\" 97; \"azul\" 503; \"rojo\" 399; \"rojo\" 662; \"verde\" 889; \"azul\" 453; \"rojo\" 125; \"rojo\" 969; \"azul\" 239; \"verde\" 856; \"rojo\" 921; \"azul\" 757; \"azul\" 614; \"rojo\" 680; \"azul\" 627; \"verde\" 882; \"rojo\" 844; \"verde\" 139; \"rojo\" 651; \"verde\" 342; \"azul\" 423; \"verde\" 481; \"azul\" 915; \"rojo\" 498; \"azul\" 252; \"verde\" 975; \"rojo\" 377; \"rojo\" 98; \"verde\" 330; \"verde\" 880; \"rojo\" 474; \"azul\" 376; \"verde\" 908; \"azul\" 698; \"azul\" 228; \"rojo\" 177; \"azul\" 908; \"verde\" 344; \"rojo\" 949; \"verde\" 871; \"azul\" 450; \"rojo\" 840; \"rojo\" 299; \"rojo\" 487; \"azul\" 467; \"rojo\" 132; \"verde\" 583; \"azul\" 786; \"azul\" 416; \"verde\" 12; \"rojo\" 827; \"azul\" 297; \"rojo\" 919; \"azul\" 47; \"rojo\" 566; \"verde\" 437; \"azul\" 659; \"verde\" 268; \"verde\" 859; \"azul\" 665; \"verde\" 594; \"azul\" 826; \"verde\" 293; \"azul\" 256; \"azul\" 369; \"verde\" 96; \"verde\" 326; \"azul\" 424; \"azul\" 146; \"rojo\" 115; \"azul\" 127; \"rojo\" 3; \"azul\" 578; \"azul\" 431; \"rojo\" 593; \"rojo\" 844; \"azul\" 108; \"azul\" 387; \"verde\" 944; \"azul\" 619; \"verde\" 934; \"rojo\" 389; \"rojo\" 763; \"azul\" 687; \"rojo\" 811; \"verde\" 104; \"rojo\" 457; \"rojo\" 34; \"azul\" 562; \"rojo\" 650; \"rojo\" 533; \"verde\" 929; \"rojo\" 367; \"azul\" 959; \"rojo\" 723; \"azul\" 150; \"verde\" 386; \"azul\" 509; \"verde\" 567; \"rojo\" 399; \"azul\" 215; \"rojo\" 83; \"verde\" 992; \"verde\" 991; \"rojo\" 24; \"azul\" 924; \"rojo\" 748; \"azul\" 494; \"verde\" 988; \"verde\" 686; \"rojo\" 2; \"azul\" 279; \"verde\" 937; \"rojo\" 214; \"verde\" 284; \"rojo\" 164; \"verde\" 912; \"azul\" 558; \"azul\" 172; \"verde\" 775; \"azul\" 651; \"azul\" 401; \"verde\" 720; \"rojo\" 507; \"rojo\" 1; \"azul\" 808; \"verde\" 109; \"azul\" 785; \"azul\" 229; \"verde\" 567; \"verde\" 458; \"rojo\" 276; \"azul\" 438; \"rojo\" 53; \"rojo\" 849; \"verde\" 882; \"azul\" 632; \"rojo\" 677; \"rojo\" 603; \"azul\" 186; \"rojo\" 101; \"verde\" 833; \"verde\" 111; \"verde\" 293; \"verde\" 85; \"azul\" 928; \"azul\" 65; \"azul\" 428; \"verde\" 44; \"verde\" 530; \"rojo\" 744; \"verde\" 433; \"verde\" 173; \"verde\" 416; \"verde\" 843; \"verde\" 765; \"rojo\" 254; \"azul\" 5; \"verde\" 546; \"rojo\" 291; \"rojo\" 489; \"rojo\" 928; \"verde\" 291; \"rojo\" 763; \"rojo\" 153; \"rojo\" 410; \"rojo\" 693; \"verde\" 608; \"rojo\" 993; \"verde\" 795; \"verde\" 812; \"azul\" 406; \"azul\" 694; \"azul\" 374; \"verde\" 976; \"verde\" 520; \"verde\" 335; \"rojo\" 422; \"azul\" 898; \"azul\" 735; \"azul\" 12; \"verde\" 718; \"verde\" 131; \"verde\" 18; \"azul\" 191; \"azul\" 154; \"verde\" 677; \"rojo\" 345; \"azul\" 116; \"rojo\" 67; \"verde\" 205; \"azul\" 508; \"azul\" 973; \"verde\" 47; \"azul\" 130; \"rojo\" 760; \"rojo\" 460; \"verde\" 151; \"verde\" 1; \"rojo\" 685; \"azul\" 867; \"verde\" 414; \"azul\" 562; \"verde\" 608; \"azul\" 675; \"verde\" 201; \"verde\" 401; \"rojo\" 890; \"azul\" 681; \"azul\" 310; \"rojo\" 49; \"azul\" 573; \"azul\" 158; \"azul\" 505; \"azul\" 233; \"rojo\" 987; \"azul\" 789; \"verde\" 924; \"verde\" 109; \"azul\" 463; \"azul\" 523; \"rojo\" 737; \"azul\" 27; \"azul\" 333; \"rojo\" 770; \"rojo\" 225; \"verde\" 163; \"rojo\" 110; \"verde\" 321; \"verde\" 301; \"verde\" 754; \"verde\" 390; \"verde\" 512; \"verde\" 136; \"rojo\" 320; \"verde\" 87; \"azul\" 769; \"azul\" 219; \"rojo\" 76; \"rojo\" 859; \"azul\" 918; \"verde\" 143; \"verde\" 483; \"rojo\" 718; \"verde\" 132; \"azul\" 544; \"azul\" 140; \"rojo\" 772; \"azul\" 726; \"azul\" 438; \"azul\" 441; \"rojo\" 354; \"rojo\" 181; \"rojo\" 358; \"verde\" 565; \"verde\" 114; \"rojo\" 172; \"azul\" 833; \"rojo\" 704; \"rojo\" 637; \"verde\" 641; \"azul\" 799; \"rojo\" 19; \"rojo\" 60; \"azul\" 249; \"rojo\" 792; \"azul\" 733; \"verde\" 981; \"verde\" 70; \"rojo\" 672; \"azul\" 51; \"rojo\" 362; \"rojo\" 482; \"azul\" 644; \"rojo\" 950; \"azul\" 48; \"rojo\" 141; \"rojo\" 382; \"verde\" 623; \"azul\" 291; \"verde\" 405; \"azul\" 997; \"verde\" 521; \"rojo\" 64; \"rojo\" 931; \"azul\" 300; \"verde\" 752; \"verde\" 527; \"rojo\" 232; \"verde\" 911; \"azul\" 225; \"azul\" 394; \"azul\" 546; \"azul\" 67; \"rojo\" 207; \"rojo\" 698; \"azul\" 223; \"verde\" 655; \"azul\" 790; \"verde\" 425; \"rojo\" 637; \"azul\" 328; \"verde\" 285; \"verde\" 906; \"azul\" 905; \"azul\" 780; \"rojo\" 533; \"verde\" 265; \"azul\" 866; \"verde\" 899; \"azul\" 264; \"verde\" 488; \"verde\" 53; \"rojo\" 436; \"azul\" 40; \"rojo\" 597; \"rojo\" 344; \"rojo\" 777; \"verde\" 25; \"rojo\" 790; \"rojo\" 501; \"rojo\" 796; \"verde\" 902; \"verde\" 754; \"rojo\" 346; \"verde\" 258; \"rojo\" 962; \"rojo\" 213; \"rojo\" 532; \"verde\" 91; \"verde\" 906; \"verde\" 539; \"rojo\" 573; \"rojo\" 544; \"azul\" 566; \"rojo\" 32; \"rojo\" 803; \"verde\" 832; \"azul\" 75; \"rojo\" 287; \"azul\" 453; \"verde\" 766; \"azul\" 631; \"verde\" 16; \"azul\" 911; \"azul\" 249; \"rojo\" 109; \"verde\" 850; \"rojo\" 497; \"rojo\" 367; \"rojo\" 592; \"azul\" 964; \"azul\" 897; \"azul\" 231; \"rojo\" 647; \"rojo\" 648; \"rojo\" 124; \"rojo\" 281; \"rojo\" 349; \"azul\" 429; \"azul\" 35; \"verde\" 843; \"verde\" 355; \"verde\" 845; \"verde\" 522; \"rojo\" 667; \"verde\" 849; \"rojo\" 559; \"azul\" 429; \"rojo\" 232; \"verde\" 472; \"azul\" 279; \"rojo\" 477; \"verde\" 509; \"azul\" 4; \"verde\" 784; \"verde\" 983; \"verde\" 57; \"rojo\" 665; \"rojo\" 512; \"verde\" 131; \"azul\" 1000; \"verde\" 478; \"azul\" 979; \"azul\" 602; \"verde\" 125; \"rojo\" 134; \"verde\" 646; \"verde\" 770; \"azul\" 846; \"verde\" 110; \"azul\" 530; \"azul\" 424; \"rojo\" 912; \"rojo\" 435; \"azul\" 504; \"verde\" 958; \"rojo\" 334; \"azul\" 832; \"verde\" 362; \"verde\" 415; \"azul\" 932; \"azul\" 632; \"azul\" 909; \"rojo\" 163; \"verde\" 806; \"verde\" 709; \"verde\" 102; \"rojo\" 17; \"azul\" 598; \"verde\" 710; \"azul\" 580; \"azul\" 44; \"rojo\" 641; \"rojo\" 621; \"rojo\" 194; \"rojo\" 258; \"verde\" 167; \"verde\" 505; \"rojo\" 352; \"verde\" 235; \"verde\" 59; \"rojo\" 475; \"azul\" 355; \"azul\" 565; \"azul\" 515; \"rojo\" 376; \"azul\" 421; \"azul\" 655; \"verde\" 279; \"rojo\" 248; \"verde\" 621; \"verde\" 980; \"azul\" 383; \"rojo\" 146; \"verde\" 585; \"azul\" 713; \"rojo\" 464; \"verde\" 936; \"rojo\" 124; \"rojo\" 683; \"azul\" 796; \"verde\" 50; \"verde\" 576; \"rojo\" 80; \"rojo\" 666; \"rojo\" 141; \"azul\" 170; \"azul\" 389; \"rojo\" 219; \"azul\" 143; \"rojo\" 374; \"verde\" 124; \"azul\" 913; \"verde\" 263; \"rojo\" 939; \"verde\" 575; \"azul\" 581; \"verde\" 80; \"azul\" 497; \"verde\" 76; \"azul\" 431; \"rojo\" 383; \"rojo\" 476; \"rojo\" 864; \"verde\" 106; \"rojo\" 272; \"verde\" 649; \"azul\" 444; \"verde\" 396; \"azul\" 249; \"azul\" 530; \"azul\" 778; \"azul\" 755; \"verde\" 651; \"azul\" 151; \"azul\" 700; \"azul\" 825; \"rojo\" 108; \"azul\" 175; \"azul\" 891; \"rojo\" 624; \"rojo\" 708; \"rojo\" 946; \"verde\" 281; \"azul\" 596; \"verde\" 308; \"azul\" 480; \"verde\" 21; \"azul\" 48; \"rojo\" 597; \"rojo\" 690; \"verde\" 669; \"rojo\" 20; \"verde\" 630; \"rojo\" 375; \"verde\" 637; \"rojo\" 938; \"rojo\" 61; \"rojo\" 226; \"rojo\" 856; \"azul\" 415; \"verde\" 19; \"rojo\" 853; \"rojo\" 485; \"azul\" 662; \"verde\" 28; \"rojo\" 930; \"rojo\" 300; \"verde\" 366; \"rojo\" 398; \"verde\" 23; \"azul\" 344; \"azul\" 220; \"rojo\" 205; \"azul\" 285; \"verde\" 634; \"rojo\" 311; \"rojo\" 252; \"azul\" 77; \"azul\" 913; \"verde\" 121; \"verde\" 76; \"verde\" 56; \"verde\" 969; \"verde\" 714; \"rojo\" 572; \"rojo\" 50; \"verde\" 571; \"azul\" 526; \"rojo\" 598; \"rojo\" 442]"
          ]
        }
      ],
      "execution_count": 85,
      "metadata": {
        "collapsed": true,
        "jupyter": {
          "source_hidden": false,
          "outputs_hidden": false
        },
        "nteract": {
          "transient": {
            "deleting": false
          }
        },
        "execution": {
          "iopub.status.busy": "2021-09-28T22:39:32.714Z",
          "iopub.execute_input": "2021-09-28T22:39:32.758Z",
          "iopub.status.idle": "2021-09-28T22:39:33.185Z"
        }
      }
    },
    {
      "cell_type": "code",
      "source": [
        "function Color(A,i)\n",
        "  return A[i,1]\n",
        "end\n",
        "function Intercambio(A,i,j)\n",
        " for l in 1:2\n",
        "  aux=A[i,l]\n",
        "  A[i,l]=A[j,l]\n",
        "  A[j,l]=aux\n",
        " end\n",
        "end\n",
        "l=1\n",
        "for i in 1:n2\n",
        "  if Color(A,i) == \"verde\"\n",
        "    Intercambio(A,i,l)\n",
        "    l+=1\n",
        "  end\n",
        "end\n",
        "j=l\n",
        "for i in l:n2\n",
        "  if Color(A,i) == \"rojo\"\n",
        "    Intercambio(A,i,j)\n",
        "    j+=1\n",
        "  end\n",
        "end\n",
        "print(A,\"\\n \",k)"
      ],
      "outputs": [
        {
          "output_type": "stream",
          "name": "stdout",
          "text": [
            "Any[\"verde\" 645; \"verde\" 47; \"verde\" 804; \"verde\" 988; \"verde\" 980; \"verde\" 145; \"verde\" 221; \"verde\" 371; \"verde\" 2; \"verde\" 415; \"verde\" 381; \"verde\" 485; \"verde\" 611; \"verde\" 327; \"verde\" 760; \"verde\" 689; \"verde\" 344; \"verde\" 193; \"verde\" 502; \"verde\" 524; \"verde\" 935; \"verde\" 279; \"verde\" 368; \"verde\" 153; \"verde\" 125; \"verde\" 739; \"verde\" 581; \"verde\" 518; \"verde\" 325; \"verde\" 99; \"verde\" 404; \"verde\" 593; \"verde\" 308; \"verde\" 833; \"verde\" 239; \"verde\" 652; \"verde\" 788; \"verde\" 390; \"verde\" 983; \"verde\" 223; \"verde\" 351; \"verde\" 217; \"verde\" 599; \"verde\" 722; \"verde\" 708; \"verde\" 619; \"verde\" 633; \"verde\" 738; \"verde\" 47; \"verde\" 772; \"verde\" 476; \"verde\" 340; \"verde\" 339; \"verde\" 291; \"verde\" 353; \"verde\" 495; \"verde\" 284; \"verde\" 762; \"verde\" 616; \"verde\" 794; \"verde\" 809; \"verde\" 668; \"verde\" 494; \"verde\" 799; \"verde\" 637; \"verde\" 719; \"verde\" 820; \"verde\" 104; \"verde\" 180; \"verde\" 163; \"verde\" 85; \"verde\" 522; \"verde\" 711; \"verde\" 69; \"verde\" 336; \"verde\" 59; \"verde\" 94; \"verde\" 168; \"verde\" 848; \"verde\" 452; \"verde\" 977; \"verde\" 48; \"verde\" 714; \"verde\" 644; \"verde\" 897; \"verde\" 465; \"verde\" 504; \"verde\" 745; \"verde\" 138; \"verde\" 949; \"verde\" 455; \"verde\" 389; \"verde\" 562; \"verde\" 218; \"verde\" 949; \"verde\" 675; \"verde\" 969; \"verde\" 718; \"verde\" 775; \"verde\" 625; \"verde\" 650; \"verde\" 141; \"verde\" 281; \"verde\" 367; \"verde\" 258; \"verde\" 894; \"verde\" 482; \"verde\" 787; \"verde\" 891; \"verde\" 793; \"verde\" 156; \"verde\" 199; \"verde\" 210; \"verde\" 665; \"verde\" 889; \"verde\" 856; \"verde\" 882; \"verde\" 139; \"verde\" 342; \"verde\" 481; \"verde\" 975; \"verde\" 330; \"verde\" 880; \"verde\" 908; \"verde\" 344; \"verde\" 871; \"verde\" 583; \"verde\" 12; \"verde\" 437; \"verde\" 268; \"verde\" 859; \"verde\" 594; \"verde\" 293; \"verde\" 96; \"verde\" 326; \"verde\" 944; \"verde\" 934; \"verde\" 104; \"verde\" 929; \"verde\" 386; \"verde\" 567; \"verde\" 992; \"verde\" 991; \"verde\" 988; \"verde\" 686; \"verde\" 937; \"verde\" 284; \"verde\" 912; \"verde\" 775; \"verde\" 720; \"verde\" 109; \"verde\" 567; \"verde\" 458; \"verde\" 882; \"verde\" 833; \"verde\" 111; \"verde\" 293; \"verde\" 85; \"verde\" 44; \"verde\" 530; \"verde\" 433; \"verde\" 173; \"verde\" 416; \"verde\" 843; \"verde\" 765; \"verde\" 546; \"verde\" 291; \"verde\" 608; \"verde\" 795; \"verde\" 812; \"verde\" 976; \"verde\" 520; \"verde\" 335; \"verde\" 718; \"verde\" 131; \"verde\" 18; \"verde\" 677; \"verde\" 205; \"verde\" 47; \"verde\" 151; \"verde\" 1; \"verde\" 414; \"verde\" 608; \"verde\" 201; \"verde\" 401; \"verde\" 924; \"verde\" 109; \"verde\" 163; \"verde\" 321; \"verde\" 301; \"verde\" 754; \"verde\" 390; \"verde\" 512; \"verde\" 136; \"verde\" 87; \"verde\" 143; \"verde\" 483; \"verde\" 132; \"verde\" 565; \"verde\" 114; \"verde\" 641; \"verde\" 981; \"verde\" 70; \"verde\" 623; \"verde\" 405; \"verde\" 521; \"verde\" 752; \"verde\" 527; \"verde\" 911; \"verde\" 655; \"verde\" 425; \"verde\" 285; \"verde\" 906; \"verde\" 265; \"verde\" 899; \"verde\" 488; \"verde\" 53; \"verde\" 25; \"verde\" 902; \"verde\" 754; \"verde\" 258; \"verde\" 91; \"verde\" 906; \"verde\" 539; \"verde\" 832; \"verde\" 766; \"verde\" 16; \"verde\" 850; \"verde\" 843; \"verde\" 355; \"verde\" 845; \"verde\" 522; \"verde\" 849; \"verde\" 472; \"verde\" 509; \"verde\" 784; \"verde\" 983; \"verde\" 57; \"verde\" 131; \"verde\" 478; \"verde\" 125; \"verde\" 646; \"verde\" 770; \"verde\" 110; \"verde\" 958; \"verde\" 362; \"verde\" 415; \"verde\" 806; \"verde\" 709; \"verde\" 102; \"verde\" 710; \"verde\" 167; \"verde\" 505; \"verde\" 235; \"verde\" 59; \"verde\" 279; \"verde\" 621; \"verde\" 980; \"verde\" 585; \"verde\" 936; \"verde\" 50; \"verde\" 576; \"verde\" 124; \"verde\" 263; \"verde\" 575; \"verde\" 80; \"verde\" 76; \"verde\" 106; \"verde\" 649; \"verde\" 396; \"verde\" 651; \"verde\" 281; \"verde\" 308; \"verde\" 21; \"verde\" 669; \"verde\" 630; \"verde\" 637; \"verde\" 19; \"verde\" 28; \"verde\" 366; \"verde\" 23; \"verde\" 634; \"verde\" 121; \"verde\" 76; \"verde\" 56; \"verde\" 969; \"verde\" 714; \"verde\" 571; \"rojo\" 951; \"rojo\" 654; \"rojo\" 520; \"rojo\" 688; \"rojo\" 399; \"rojo\" 662; \"rojo\" 125; \"rojo\" 969; \"rojo\" 921; \"rojo\" 680; \"rojo\" 844; \"rojo\" 651; \"rojo\" 750; \"rojo\" 941; \"rojo\" 498; \"rojo\" 377; \"rojo\" 98; \"rojo\" 520; \"rojo\" 537; \"rojo\" 474; \"rojo\" 177; \"rojo\" 949; \"rojo\" 840; \"rojo\" 299; \"rojo\" 487; \"rojo\" 132; \"rojo\" 898; \"rojo\" 827; \"rojo\" 919; \"rojo\" 566; \"rojo\" 921; \"rojo\" 61; \"rojo\" 766; \"rojo\" 115; \"rojo\" 3; \"rojo\" 593; \"rojo\" 844; \"rojo\" 638; \"rojo\" 389; \"rojo\" 763; \"rojo\" 811; \"rojo\" 2; \"rojo\" 457; \"rojo\" 34; \"rojo\" 650; \"rojo\" 533; \"rojo\" 367; \"rojo\" 723; \"rojo\" 586; \"rojo\" 399; \"rojo\" 83; \"rojo\" 24; \"rojo\" 748; \"rojo\" 2; \"rojo\" 565; \"rojo\" 214; \"rojo\" 164; \"rojo\" 940; \"rojo\" 507; \"rojo\" 1; \"rojo\" 288; \"rojo\" 276; \"rojo\" 53; \"rojo\" 849; \"rojo\" 313; \"rojo\" 677; \"rojo\" 603; \"rojo\" 101; \"rojo\" 314; \"rojo\" 379; \"rojo\" 744; \"rojo\" 174; \"rojo\" 780; \"rojo\" 682; \"rojo\" 254; \"rojo\" 291; \"rojo\" 489; \"rojo\" 928; \"rojo\" 671; \"rojo\" 763; \"rojo\" 153; \"rojo\" 410; \"rojo\" 693; \"rojo\" 993; \"rojo\" 56; \"rojo\" 339; \"rojo\" 422; \"rojo\" 433; \"rojo\" 327; \"rojo\" 345; \"rojo\" 67; \"rojo\" 646; \"rojo\" 760; \"rojo\" 460; \"rojo\" 685; \"rojo\" 890; \"rojo\" 49; \"rojo\" 987; \"rojo\" 737; \"rojo\" 770; \"rojo\" 225; \"rojo\" 489; \"rojo\" 110; \"rojo\" 984; \"rojo\" 565; \"rojo\" 17; \"rojo\" 634; \"rojo\" 320; \"rojo\" 76; \"rojo\" 859; \"rojo\" 375; \"rojo\" 825; \"rojo\" 718; \"rojo\" 836; \"rojo\" 772; \"rojo\" 354; \"rojo\" 181; \"rojo\" 358; \"rojo\" 172; \"rojo\" 704; \"rojo\" 637; \"rojo\" 19; \"rojo\" 60; \"rojo\" 792; \"rojo\" 707; \"rojo\" 672; \"rojo\" 362; \"rojo\" 482; \"rojo\" 950; \"rojo\" 141; \"rojo\" 382; \"rojo\" 848; \"rojo\" 64; \"rojo\" 931; \"rojo\" 369; \"rojo\" 497; \"rojo\" 232; \"rojo\" 207; \"rojo\" 698; \"rojo\" 637; \"rojo\" 533; \"rojo\" 648; \"rojo\" 797; \"rojo\" 473; \"rojo\" 436; \"rojo\" 597; \"rojo\" 344; \"rojo\" 777; \"rojo\" 348; \"rojo\" 790; \"rojo\" 501; \"rojo\" 796; \"rojo\" 799; \"rojo\" 346; \"rojo\" 304; \"rojo\" 962; \"rojo\" 213; \"rojo\" 532; \"rojo\" 388; \"rojo\" 573; \"rojo\" 544; \"rojo\" 32; \"rojo\" 803; \"rojo\" 319; \"rojo\" 287; \"rojo\" 109; \"rojo\" 516; \"rojo\" 497; \"rojo\" 367; \"rojo\" 592; \"rojo\" 647; \"rojo\" 648; \"rojo\" 124; \"rojo\" 281; \"rojo\" 349; \"rojo\" 931; \"rojo\" 667; \"rojo\" 559; \"rojo\" 232; \"rojo\" 908; \"rojo\" 477; \"rojo\" 665; \"rojo\" 512; \"rojo\" 50; \"rojo\" 134; \"rojo\" 362; \"rojo\" 980; \"rojo\" 912; \"rojo\" 435; \"rojo\" 195; \"rojo\" 334; \"rojo\" 766; \"rojo\" 809; \"rojo\" 163; \"rojo\" 524; \"rojo\" 17; \"rojo\" 124; \"rojo\" 641; \"rojo\" 621; \"rojo\" 194; \"rojo\" 258; \"rojo\" 352; \"rojo\" 522; \"rojo\" 475; \"rojo\" 376; \"rojo\" 583; \"rojo\" 248; \"rojo\" 738; \"rojo\" 146; \"rojo\" 502; \"rojo\" 464; \"rojo\" 73; \"rojo\" 124; \"rojo\" 683; \"rojo\" 875; \"rojo\" 80; \"rojo\" 666; \"rojo\" 141; \"rojo\" 219; \"rojo\" 374; \"rojo\" 434; \"rojo\" 939; \"rojo\" 535; \"rojo\" 383; \"rojo\" 476; \"rojo\" 864; \"rojo\" 272; \"rojo\" 108; \"rojo\" 624; \"rojo\" 708; \"rojo\" 946; \"rojo\" 650; \"rojo\" 597; \"rojo\" 690; \"rojo\" 801; \"rojo\" 20; \"rojo\" 375; \"rojo\" 938; \"rojo\" 61; \"rojo\" 226; \"rojo\" 856; \"rojo\" 853; \"rojo\" 485; \"rojo\" 930; \"rojo\" 300; \"rojo\" 398; \"rojo\" 205; \"rojo\" 393; \"rojo\" 311; \"rojo\" 252; \"rojo\" 344; \"rojo\" 946; \"rojo\" 49; \"rojo\" 504; \"rojo\" 572; \"rojo\" 50; \"rojo\" 598; \"rojo\" 442; \"azul\" 954; \"azul\" 726; \"azul\" 438; \"azul\" 441; \"azul\" 450; \"azul\" 924; \"azul\" 757; \"azul\" 673; \"azul\" 657; \"azul\" 494; \"azul\" 833; \"azul\" 870; \"azul\" 399; \"azul\" 106; \"azul\" 799; \"azul\" 614; \"azul\" 279; \"azul\" 249; \"azul\" 155; \"azul\" 733; \"azul\" 934; \"azul\" 467; \"azul\" 240; \"azul\" 51; \"azul\" 627; \"azul\" 600; \"azul\" 644; \"azul\" 558; \"azul\" 48; \"azul\" 172; \"azul\" 993; \"azul\" 651; \"azul\" 291; \"azul\" 454; \"azul\" 997; \"azul\" 922; \"azul\" 401; \"azul\" 660; \"azul\" 300; \"azul\" 786; \"azul\" 416; \"azul\" 808; \"azul\" 391; \"azul\" 225; \"azul\" 394; \"azul\" 546; \"azul\" 67; \"azul\" 208; \"azul\" 785; \"azul\" 223; \"azul\" 674; \"azul\" 790; \"azul\" 384; \"azul\" 229; \"azul\" 328; \"azul\" 989; \"azul\" 499; \"azul\" 905; \"azul\" 780; \"azul\" 480; \"azul\" 701; \"azul\" 866; \"azul\" 144; \"azul\" 264; \"azul\" 333; \"azul\" 438; \"azul\" 297; \"azul\" 40; \"azul\" 873; \"azul\" 47; \"azul\" 632; \"azul\" 97; \"azul\" 503; \"azul\" 186; \"azul\" 659; \"azul\" 782; \"azul\" 686; \"azul\" 384; \"azul\" 730; \"azul\" 725; \"azul\" 928; \"azul\" 65; \"azul\" 428; \"azul\" 681; \"azul\" 63; \"azul\" 583; \"azul\" 740; \"azul\" 566; \"azul\" 665; \"azul\" 691; \"azul\" 808; \"azul\" 75; \"azul\" 826; \"azul\" 453; \"azul\" 566; \"azul\" 631; \"azul\" 352; \"azul\" 911; \"azul\" 249; \"azul\" 242; \"azul\" 438; \"azul\" 256; \"azul\" 5; \"azul\" 745; \"azul\" 964; \"azul\" 897; \"azul\" 231; \"azul\" 369; \"azul\" 423; \"azul\" 251; \"azul\" 424; \"azul\" 146; \"azul\" 429; \"azul\" 35; \"azul\" 569; \"azul\" 410; \"azul\" 915; \"azul\" 468; \"azul\" 127; \"azul\" 904; \"azul\" 471; \"azul\" 429; \"azul\" 191; \"azul\" 578; \"azul\" 279; \"azul\" 431; \"azul\" 706; \"azul\" 4; \"azul\" 911; \"azul\" 595; \"azul\" 740; \"azul\" 252; \"azul\" 406; \"azul\" 241; \"azul\" 1000; \"azul\" 694; \"azul\" 979; \"azul\" 602; \"azul\" 103; \"azul\" 374; \"azul\" 213; \"azul\" 75; \"azul\" 846; \"azul\" 509; \"azul\" 530; \"azul\" 424; \"azul\" 905; \"azul\" 545; \"azul\" 504; \"azul\" 898; \"azul\" 735; \"azul\" 832; \"azul\" 12; \"azul\" 534; \"azul\" 932; \"azul\" 632; \"azul\" 909; \"azul\" 108; \"azul\" 707; \"azul\" 195; \"azul\" 56; \"azul\" 191; \"azul\" 598; \"azul\" 154; \"azul\" 580; \"azul\" 44; \"azul\" 387; \"azul\" 291; \"azul\" 116; \"azul\" 619; \"azul\" 601; \"azul\" 191; \"azul\" 790; \"azul\" 733; \"azul\" 508; \"azul\" 973; \"azul\" 355; \"azul\" 565; \"azul\" 515; \"azul\" 730; \"azul\" 421; \"azul\" 655; \"azul\" 130; \"azul\" 453; \"azul\" 738; \"azul\" 463; \"azul\" 383; \"azul\" 31; \"azul\" 631; \"azul\" 713; \"azul\" 687; \"azul\" 867; \"azul\" 927; \"azul\" 562; \"azul\" 796; \"azul\" 846; \"azul\" 778; \"azul\" 675; \"azul\" 847; \"azul\" 483; \"azul\" 170; \"azul\" 389; \"azul\" 245; \"azul\" 143; \"azul\" 681; \"azul\" 310; \"azul\" 913; \"azul\" 680; \"azul\" 239; \"azul\" 573; \"azul\" 581; \"azul\" 399; \"azul\" 497; \"azul\" 231; \"azul\" 431; \"azul\" 158; \"azul\" 505; \"azul\" 233; \"azul\" 320; \"azul\" 376; \"azul\" 707; \"azul\" 444; \"azul\" 650; \"azul\" 249; \"azul\" 530; \"azul\" 778; \"azul\" 755; \"azul\" 16; \"azul\" 151; \"azul\" 700; \"azul\" 825; \"azul\" 789; \"azul\" 175; \"azul\" 891; \"azul\" 289; \"azul\" 505; \"azul\" 463; \"azul\" 523; \"azul\" 596; \"azul\" 253; \"azul\" 480; \"azul\" 180; \"azul\" 48; \"azul\" 959; \"azul\" 27; \"azul\" 333; \"azul\" 562; \"azul\" 248; \"azul\" 698; \"azul\" 604; \"azul\" 228; \"azul\" 199; \"azul\" 312; \"azul\" 803; \"azul\" 415; \"azul\" 966; \"azul\" 866; \"azul\" 959; \"azul\" 662; \"azul\" 121; \"azul\" 908; \"azul\" 150; \"azul\" 565; \"azul\" 444; \"azul\" 793; \"azul\" 344; \"azul\" 220; \"azul\" 564; \"azul\" 285; \"azul\" 769; \"azul\" 219; \"azul\" 509; \"azul\" 77; \"azul\" 913; \"azul\" 842; \"azul\" 491; \"azul\" 918; \"azul\" 472; \"azul\" 215; \"azul\" 277; \"azul\" 637; \"azul\" 438; \"azul\" 526; \"azul\" 544; \"azul\" 140]\n",
            " 1093"
          ]
        }
      ],
      "execution_count": 86,
      "metadata": {
        "collapsed": true,
        "jupyter": {
          "source_hidden": false,
          "outputs_hidden": false
        },
        "nteract": {
          "transient": {
            "deleting": false
          }
        },
        "execution": {
          "iopub.status.busy": "2021-09-28T22:39:35.668Z",
          "iopub.execute_input": "2021-09-28T22:39:35.699Z",
          "iopub.status.idle": "2021-09-28T22:39:36.325Z"
        }
      }
    },
    {
      "cell_type": "markdown",
      "source": [
        "3. Dada una lista de n enteros {x1,x2,..,xn} y un número y, encuentre un algoritmo que en O(nlgn) encuentre la pareja (i,j) tal que xi+xj es a lo sumo y, ademas es máxima. "
      ],
      "metadata": {
        "nteract": {
          "transient": {
            "deleting": false
          }
        }
      }
    },
    {
      "cell_type": "code",
      "source": [
        "n3=rand(1:1000)\n",
        "listEj3=rand(1:1000,n3)\n",
        "y=rand(2:1000)\n",
        "print(\"Se tiene en la lista \",n3,\" elementos, que son: \",listEj3,\"\\nEl numero y es:\",y)"
      ],
      "outputs": [
        {
          "output_type": "stream",
          "name": "stdout",
          "text": [
            "Se tiene en la lista 856 elementos, que son: [389, 336, 681, 416, 646, 732, 839, 422, 524, 79, 121, 600, 205, 34, 144, 581, 463, 98, 238, 209, 352, 350, 96, 773, 743, 57, 181, 184, 357, 577, 279, 528, 306, 760, 223, 85, 342, 305, 860, 82, 305, 707, 440, 307, 204, 810, 426, 620, 120, 995, 687, 919, 514, 87, 631, 900, 468, 22, 256, 78, 328, 340, 49, 380, 287, 985, 876, 717, 696, 463, 161, 712, 157, 419, 351, 810, 481, 327, 14, 143, 854, 763, 742, 699, 805, 355, 332, 10, 70, 120, 92, 694, 203, 21, 261, 136, 91, 734, 288, 992, 724, 922, 327, 515, 418, 709, 721, 849, 654, 425, 74, 819, 344, 86, 374, 642, 94, 966, 335, 407, 114, 129, 967, 551, 194, 515, 691, 458, 707, 855, 766, 617, 675, 562, 765, 224, 750, 712, 191, 641, 58, 180, 595, 297, 346, 975, 115, 825, 84, 287, 250, 23, 392, 615, 913, 838, 753, 131, 483, 137, 900, 174, 189, 654, 270, 183, 91, 952, 424, 9, 569, 205, 72, 859, 514, 250, 919, 193, 399, 614, 326, 987, 538, 806, 173, 105, 768, 571, 228, 147, 164, 473, 837, 228, 516, 525, 851, 921, 637, 145, 69, 156, 543, 457, 418, 543, 529, 298, 372, 655, 449, 277, 368, 101, 720, 800, 211, 267, 656, 612, 768, 389, 44, 159, 556, 159, 83, 557, 442, 765, 954, 288, 480, 131, 474, 621, 737, 776, 391, 730, 818, 892, 518, 256, 324, 640, 488, 17, 369, 244, 876, 793, 192, 849, 85, 667, 382, 686, 797, 11, 908, 325, 512, 299, 478, 58, 814, 280, 406, 868, 812, 565, 135, 375, 516, 197, 333, 458, 343, 60, 824, 841, 491, 408, 996, 26, 642, 461, 752, 980, 408, 124, 172, 269, 379, 626, 577, 701, 690, 372, 325, 161, 44, 779, 816, 439, 624, 543, 89, 99, 25, 151, 238, 560, 230, 593, 691, 875, 670, 260, 535, 642, 266, 662, 280, 829, 785, 50, 688, 37, 324, 125, 662, 808, 470, 850, 170, 198, 108, 95, 24, 627, 242, 907, 630, 863, 634, 638, 690, 876, 791, 322, 589, 464, 842, 495, 970, 326, 794, 768, 368, 723, 129, 986, 735, 189, 954, 860, 272, 952, 295, 916, 927, 803, 850, 723, 450, 310, 342, 810, 925, 142, 185, 577, 403, 881, 371, 345, 808, 336, 61, 182, 605, 61, 921, 761, 924, 30, 382, 571, 256, 692, 234, 730, 431, 919, 284, 173, 145, 235, 168, 718, 303, 713, 789, 825, 546, 784, 364, 249, 569, 405, 266, 166, 514, 861, 485, 431, 236, 748, 679, 648, 381, 262, 890, 925, 720, 30, 327, 277, 478, 344, 573, 431, 990, 112, 908, 233, 684, 618, 299, 310, 742, 379, 179, 210, 765, 84, 905, 45, 598, 904, 983, 875, 833, 26, 401, 525, 254, 95, 575, 404, 804, 558, 640, 632, 323, 498, 261, 898, 803, 328, 269, 401, 926, 876, 852, 50, 217, 363, 240, 896, 260, 389, 184, 511, 282, 719, 926, 76, 697, 642, 96, 578, 436, 14, 993, 20, 79, 877, 581, 528, 634, 611, 900, 834, 996, 485, 710, 991, 618, 955, 67, 205, 510, 44, 738, 795, 348, 465, 687, 437, 769, 489, 757, 741, 395, 269, 669, 214, 556, 715, 363, 597, 580, 510, 69, 872, 996, 19, 11, 916, 111, 604, 698, 281, 178, 920, 87, 791, 886, 60, 55, 827, 879, 435, 300, 868, 953, 133, 861, 506, 580, 786, 735, 144, 647, 98, 619, 596, 876, 872, 679, 960, 312, 664, 387, 76, 537, 192, 830, 388, 241, 325, 528, 941, 440, 730, 220, 40, 906, 325, 928, 65, 57, 222, 909, 522, 580, 942, 126, 405, 553, 764, 638, 960, 271, 36, 516, 955, 37, 482, 780, 448, 464, 340, 899, 238, 613, 650, 307, 606, 14, 276, 351, 890, 313, 376, 765, 992, 112, 277, 427, 417, 503, 898, 339, 691, 913, 849, 218, 984, 638, 923, 135, 948, 892, 30, 900, 683, 722, 6, 735, 246, 203, 785, 402, 257, 874, 330, 176, 930, 296, 853, 238, 671, 779, 977, 91, 851, 472, 210, 987, 860, 451, 989, 60, 882, 82, 433, 47, 36, 976, 768, 222, 572, 443, 470, 667, 705, 392, 524, 621, 928, 274, 548, 572, 853, 216, 71, 299, 369, 195, 575, 131, 232, 268, 604, 434, 23, 214, 296, 885, 906, 404, 687, 649, 861, 913, 68, 550, 833, 503, 241, 357, 68, 671, 670, 352, 379, 1, 606, 645, 647, 218, 881, 567, 507, 72, 594, 399, 510, 779, 605, 775, 163, 35, 924, 225, 216, 802, 914, 836, 420, 461, 784, 609, 413, 215, 516, 804, 22, 439, 916, 902, 912, 534, 802, 699, 377, 926, 749, 510, 258, 513, 586, 3, 874, 489, 554, 112, 36, 414, 375, 673, 21, 386, 794, 778, 349, 965, 599, 212, 686, 593, 725, 837, 792, 923, 215, 873, 53, 708, 85, 578, 885, 123, 147, 400, 921, 305, 923, 781, 474, 830, 609, 606, 691, 277, 916, 647, 346, 345, 136, 675, 614, 423, 271, 413, 441, 755, 328, 838, 894, 265, 986, 251, 211, 73, 701, 139, 944, 40, 287, 659, 551]\n",
            "El numero y es:538"
          ]
        }
      ],
      "execution_count": 88,
      "metadata": {
        "collapsed": true,
        "jupyter": {
          "source_hidden": false,
          "outputs_hidden": false
        },
        "nteract": {
          "transient": {
            "deleting": false
          }
        },
        "execution": {
          "iopub.status.busy": "2021-09-28T22:45:09.337Z",
          "iopub.execute_input": "2021-09-28T22:45:09.377Z",
          "iopub.status.idle": "2021-09-28T22:45:09.474Z"
        }
      }
    },
    {
      "cell_type": "markdown",
      "source": [
        "5. Supongamos que tenemos dos listas ordenadas S y T, cada una con n elementos. Encuentre un algoritmo que en O((lgn)^2) encuentre el n-ésimo elemento de SUT."
      ],
      "metadata": {
        "nteract": {
          "transient": {
            "deleting": false
          }
        }
      }
    },
    {
      "cell_type": "code",
      "source": [
        "n5=rand(1:100);\n",
        "arS=sort(rand(1:1000,n5));\n",
        "arT=sort(rand(1:1000,n5));\n",
        "@time print(\"n asignada:\",n5,\"\\nArreglo S:\",arS,\"\\nArreglo T:\",arT)"
      ],
      "outputs": [
        {
          "output_type": "stream",
          "name": "stdout",
          "text": [
            "n asignada:40\n",
            "Arreglo S:[9, 36, 39, 70, 109, 165, 192, 195, 196, 223, 225, 269, 274, 283, 336, 337, 340, 361, 368, 371, 377, 492, 512, 525, 551, 559, 654, 674, 690, 703, 756, 761, 795, 808, 842, 865, 869, 894, 954, 1000]\n",
            "Arreglo T:[7, 22, 27, 28, 120, 132, 168, 186, 208, 243, 251, 273, 276, 312, 317, 331, 370, 394, 401, 412, 520, 545, 588, 600, 638, 648, 664, 694, 697, 697, 703, 735, 772, 936, 942, 951, 961, 981, 987, 989]  0.423919 seconds (247.02 k allocations: 12.097 MiB)\n"
          ]
        }
      ],
      "execution_count": 42,
      "metadata": {
        "collapsed": true,
        "jupyter": {
          "source_hidden": false,
          "outputs_hidden": false
        },
        "nteract": {
          "transient": {
            "deleting": false
          }
        },
        "execution": {
          "iopub.status.busy": "2021-09-28T01:45:34.496Z",
          "iopub.execute_input": "2021-09-28T01:45:34.536Z",
          "iopub.status.idle": "2021-09-28T01:45:35.169Z"
        }
      }
    },
    {
      "cell_type": "code",
      "source": [
        "function algEjer5(n,ars,art)\n",
        "  j=1\n",
        "  ret=n\n",
        "  for i = 1:n\n",
        "      if  ars[j]< art[i]\n",
        "         ret=art[i]\n",
        "         print(ret,\"\\n\")\n",
        "         j+=1\n",
        "        elseif ars[j] > art[i]\n",
        "            ret=ars[j]\n",
        "            print(ret,\"\\n\")\n",
        "            i+=1\n",
        "        end\n",
        "     end\n",
        "  return ret\n",
        "end"
      ],
      "outputs": [
        {
          "output_type": "execute_result",
          "execution_count": 1,
          "data": {
            "text/plain": "algEjer5 (generic function with 1 method)"
          },
          "metadata": {}
        }
      ],
      "execution_count": 1,
      "metadata": {
        "collapsed": true,
        "jupyter": {
          "source_hidden": false,
          "outputs_hidden": false
        },
        "nteract": {
          "transient": {
            "deleting": false
          }
        },
        "execution": {
          "iopub.status.busy": "2021-09-30T18:35:28.122Z",
          "iopub.execute_input": "2021-09-30T18:35:29.130Z",
          "iopub.status.idle": "2021-09-30T18:35:30.632Z"
        }
      }
    },
    {
      "cell_type": "markdown",
      "source": [
        "7. Dados n números naturales entre 1 y n^2, encuentre un algoritmo lineal que los ordene."
      ],
      "metadata": {
        "nteract": {
          "transient": {
            "deleting": false
          }
        }
      }
    },
    {
      "cell_type": "code",
      "source": [
        "\n",
        "n7=rand(1:100);\n",
        "ae7=rand(1:((n7)^2),n7);\n",
        "@time print(\"La n designada es: \",n7,\"\\nLos valores en tu arreglo son: \",ae7)"
      ],
      "outputs": [
        {
          "output_type": "stream",
          "name": "stdout",
          "text": [
            "La n designada es: 28\n",
            "Los valores en tu arreglo son: [540, 260, 251, 733, 174, 547, 711, 537, 354, 408, 104, 718, 760, 23, 402, 319, 184, 210, 314, 118, 489, 202, 338, 526, 292, 623, 52, 256]  0.007520 seconds (933 allocations: 28.109 KiB)\n"
          ]
        }
      ],
      "execution_count": 46,
      "metadata": {
        "collapsed": true,
        "jupyter": {
          "source_hidden": false,
          "outputs_hidden": false
        },
        "nteract": {
          "transient": {
            "deleting": false
          }
        },
        "execution": {
          "iopub.status.busy": "2021-09-23T19:34:08.657Z",
          "iopub.execute_input": "2021-09-23T19:34:08.681Z",
          "iopub.status.idle": "2021-09-23T19:34:08.723Z"
        }
      }
    },
    {
      "cell_type": "code",
      "source": [],
      "outputs": [],
      "execution_count": null,
      "metadata": {
        "collapsed": true,
        "jupyter": {
          "source_hidden": false,
          "outputs_hidden": false
        },
        "nteract": {
          "transient": {
            "deleting": false
          }
        }
      }
    },
    {
      "cell_type": "code",
      "source": [],
      "outputs": [],
      "execution_count": null,
      "metadata": {
        "collapsed": true,
        "jupyter": {
          "source_hidden": false,
          "outputs_hidden": false
        },
        "nteract": {
          "transient": {
            "deleting": false
          }
        }
      }
    }
  ],
  "metadata": {
    "kernel_info": {
      "name": "julia-nteract-1.5"
    },
    "language_info": {
      "file_extension": ".jl",
      "name": "julia",
      "mimetype": "application/julia",
      "version": "1.5.3"
    },
    "kernelspec": {
      "argv": [
        "C:\\Users\\DELL\\AppData\\Local\\Programs\\Julia 1.5.3\\bin\\julia.exe",
        "-i",
        "--color=yes",
        "C:\\Users\\DELL\\.julia\\packages\\IJulia\\IDNmS\\src\\kernel.jl",
        "{connection_file}"
      ],
      "display_name": "Julia nteract 1.5.3",
      "env": {},
      "interrupt_mode": "message",
      "language": "julia",
      "name": "julia-nteract-1.5"
    },
    "nteract": {
      "version": "0.28.0"
    }
  },
  "nbformat": 4,
  "nbformat_minor": 0
}